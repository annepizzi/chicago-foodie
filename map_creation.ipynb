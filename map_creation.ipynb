{
 "cells": [
  {
   "cell_type": "code",
   "execution_count": null,
   "id": "196ab7bf",
   "metadata": {},
   "outputs": [],
   "source": [
    "#Import the necessary functions\n",
    "from pprint import pprint\n",
    "import pandas as pd \n",
    "import requests\n",
    "import numpy as np\n",
    "import gmaps\n",
    "\n",
    "from config import yelp_key\n",
    "from config import g_key"
   ]
  },
  {
   "cell_type": "code",
   "execution_count": null,
   "id": "95e5e315",
   "metadata": {},
   "outputs": [],
   "source": [
    "#import the csv file\n",
    "data = pd.read_csv(\"data/yelp_inspection_merge.csv\")\n",
    "data"
   ]
  },
  {
   "cell_type": "code",
   "execution_count": null,
   "id": "42ce3a78",
   "metadata": {},
   "outputs": [],
   "source": [
    "#create a dataframe with a great rating\n",
    "great_df = data.loc[data[\"rating\"]>=4]\n",
    "good_df = data.loc[data[\"rating\"]< 4]\n",
    "good_df = good_df.loc[good_df[\"rating\"]>=2]\n",
    "bad_df = data.loc[data[\"rating\"] <2]"
   ]
  },
  {
   "cell_type": "code",
   "execution_count": null,
   "id": "c9406890",
   "metadata": {},
   "outputs": [],
   "source": [
    "#create a map with the great dataframe\n",
    "great_health = great_df.loc[great_df[\"Results\"] == \"Pass\"]\n",
    "bad_health = great_df.loc[great_df[\"Results\"] ==\"Fail\"]\n",
    "vbad_health = bad_df.loc[bad_df[\"Results\"]==\"Fail\"]\n",
    "notbad_health = bad_df.loc[bad_df[\"Results\"] == \"Pass\"]\n",
    "\n",
    "#configure the gmaps\n",
    "gmaps.configure(api_key=g_key)"
   ]
  },
  {
   "cell_type": "code",
   "execution_count": null,
   "id": "57b8c43a",
   "metadata": {
    "scrolled": true
   },
   "outputs": [],
   "source": [
    "green_locations = great_health[[\"Latitude\", \"Longitude\"]]\n",
    "yellow_locations = bad_health[[\"Latitude\", \"Longitude\"]]\n",
    "red_locations = vbad_health[[\"Latitude\", \"Longitude\"]]\n",
    "blue_locations = notbad_health[[\"Latitude\", \"Longitude\"]]\n",
    "# names = list(great_health[\"name\"])                            \n",
    "fig = gmaps.figure()\n",
    "# marker = gmaps.marker_layer(green_locations)\n",
    "\n",
    "# fig.add_layer(marker)\n",
    "#change the color of the marker\n",
    "green_symbols = gmaps.symbol_layer(green_locations, fill_color=\"green\", stroke_color = \"green\")\n",
    "fig.add_layer(green_symbols)\n",
    "\n",
    "# new_markers = gmaps.marker_layer(orange_locations)\n",
    "\n",
    "# fig.add_layer(new_markers)\n",
    "\n",
    "yellow_symbols = gmaps.symbol_layer(yellow_locations, fill_color = \"yellow\", stroke_color = \"yellow\")\n",
    "fig.add_layer(yellow_symbols)\n",
    "\n",
    "red_symbols = gmaps.symbol_layer(red_locations, fill_color=\"red\", stroke_color=\"red\")\n",
    "fig.add_layer(red_symbols)\n",
    "\n",
    "blue_symbols = gmaps.symbol_layer(blue_locations, fill_color=\"blue\", stroke_color=\"blue\")\n",
    "fig.add_layer(blue_symbols)\n",
    "fig"
   ]
  },
  {
   "cell_type": "code",
   "execution_count": null,
   "id": "8ba08666",
   "metadata": {},
   "outputs": [],
   "source": [
    "#create maps individually for each type\n",
    "green_locations = great_health[[\"Latitude\", \"Longitude\"]]\n",
    "fig = gmaps.figure()\n",
    "green_symbols = gmaps.symbol_layer(green_locations, fill_color=\"green\", stroke_color = \"green\")\n",
    "fig.add_layer(green_symbols)\n",
    "fig"
   ]
  },
  {
   "cell_type": "code",
   "execution_count": null,
   "id": "e324cce1",
   "metadata": {},
   "outputs": [],
   "source": [
    "yellow_locations = bad_health[[\"Latitude\", \"Longitude\"]]\n",
    "fig = gmaps.figure()\n",
    "yellow_symbols = gmaps.symbol_layer(yellow_locations, fill_color=\"yellow\", stroke_color = \"yellow\")\n",
    "fig.add_layer(yellow_symbols)\n",
    "fig"
   ]
  },
  {
   "cell_type": "code",
   "execution_count": null,
   "id": "0cc5b390",
   "metadata": {},
   "outputs": [],
   "source": [
    "red_locations = vbad_health[[\"Latitude\", \"Longitude\"]]\n",
    "fig = gmaps.figure()\n",
    "red_symbols = gmaps.symbol_layer(red_locations, fill_color=\"red\", stroke_color = \"red\")\n",
    "fig.add_layer(red_symbols)\n",
    "fig"
   ]
  },
  {
   "cell_type": "code",
   "execution_count": null,
   "id": "1527221d",
   "metadata": {},
   "outputs": [],
   "source": [
    "blue_locations = notbad_health[[\"Latitude\", \"Longitude\"]]\n",
    "fig = gmaps.figure()\n",
    "blue_symbols = gmaps.symbol_layer(blue_locations, fill_color=\"blue\", stroke_color = \"blue\")\n",
    "fig.add_layer(blue_symbols)\n",
    "fig"
   ]
  },
  {
   "cell_type": "code",
   "execution_count": null,
   "id": "cfafa880",
   "metadata": {},
   "outputs": [],
   "source": [
    "#potential maps I could make\n",
    "#comparing the more popular zip codes and see which one has the most highest rated restaurants\n",
    "great_health[\"Zip\"].value_counts()\n",
    "zip_code_60661 = great_health.loc[great_health[\"Zip\"] == 60661]\n",
    "data_60661 = data.loc[data[\"Zip\"] == 60661]\n",
    "zip_code_60661"
   ]
  },
  {
   "cell_type": "code",
   "execution_count": null,
   "id": "8302ce81",
   "metadata": {},
   "outputs": [],
   "source": [
    "zip60661_locations = data_60661[[\"Latitude\", \"Longitude\"]]\n",
    "fig = gmaps.figure()\n",
    "zip60661_symbols = gmaps.symbol_layer(zip60661_locations, fill_color=\"blue\", stroke_color = \"blue\")\n",
    "fig.add_layer(zip60661_symbols)\n",
    "fig"
   ]
  },
  {
   "cell_type": "code",
   "execution_count": null,
   "id": "34821972",
   "metadata": {},
   "outputs": [],
   "source": [
    "#create a map of the great rating restaurants in 60661\n",
    "great_data_60661 = data_60661.loc[data_60661[\"rating\"] > 4]\n",
    "great60661_locations = great_data_60661[[\"Latitude\", \"Longitude\"]]\n",
    "fig = gmaps.figure()\n",
    "great60661_symbols = gmaps.symbol_layer(great60661_locations, fill_color=\"blue\", stroke_color = \"blue\")\n",
    "fig.add_layer(great60661_symbols)\n",
    "fig"
   ]
  },
  {
   "cell_type": "code",
   "execution_count": null,
   "id": "960d4cc4",
   "metadata": {},
   "outputs": [],
   "source": [
    "data_60657 = data.loc[data[\"zip code\"] == 60657]\n",
    "data_60613 = data.loc[data[\"zip code\"] == 60613]\n",
    "great_data_60657 = data_60657[data_60657[\"rating\"]>=4]\n",
    "great_data_60613 = data_60613[data_60613[\"rating\"]>=4]\n",
    "data_60657"
   ]
  },
  {
   "cell_type": "code",
   "execution_count": null,
   "id": "ba41f94f",
   "metadata": {},
   "outputs": [],
   "source": [
    "#create a graph showing whether you should go north or south for a good restaurant before/after a cubs game\n",
    "great60657_locations = great_data_60657[[\"Latitude\", \"Longitude\"]]\n",
    "great60613_locations = great_data_60613[[\"Latitude\", \"Longitude\"]]\n",
    "fig = gmaps.figure()\n",
    "great60657_symbols = gmaps.symbol_layer(great60657_locations, fill_color=\"blue\", stroke_color = \"blue\")\n",
    "fig.add_layer(great60657_symbols)\n",
    "great60613_symbols = gmaps.symbol_layer(great60613_locations, fill_color=\"red\", stroke_color = \"red\")\n",
    "fig.add_layer(great60613_symbols)\n",
    "fig"
   ]
  },
  {
   "cell_type": "code",
   "execution_count": null,
   "id": "9e53cc84",
   "metadata": {},
   "outputs": [],
   "source": [
    "just_ratings = pd.read_csv(\"data/yelp_csv/yelp_csv_CLEAN.csv\")\n",
    "just_ratings"
   ]
  },
  {
   "cell_type": "code",
   "execution_count": null,
   "id": "a6d30ed6",
   "metadata": {},
   "outputs": [],
   "source": [
    "just_ratings_60657 = just_ratings.loc[just_ratings[\"rating\"]>=3]\n",
    "just_ratings_60613 = just_ratings.loc[just_ratings[\"rating\"]>=3]\n",
    "ratings_60657 = just_ratings_60657.loc[just_ratings_60657[\"zip code\"] == 60657]\n",
    "ratings_60613 = just_ratings_60613.loc[just_ratings_60613[\"zip code\"] == 60613]"
   ]
  },
  {
   "cell_type": "code",
   "execution_count": null,
   "id": "c6ea1994",
   "metadata": {},
   "outputs": [],
   "source": [
    "_60657_locations = ratings_60657[[\"latitude\", \"longitude\"]]\n",
    "_60613_locations = ratings_60613[[\"latitude\", \"longitude\"]]\n",
    "fig = gmaps.figure()\n",
    "_60657_symbols = gmaps.symbol_layer(_60657_locations, fill_color=\"blue\", stroke_color = \"blue\")\n",
    "fig.add_layer(_60657_symbols)\n",
    "_60613_symbols = gmaps.symbol_layer(_60613_locations, fill_color=\"red\", stroke_color = \"red\")\n",
    "fig.add_layer(_60613_symbols)\n",
    "fig\n",
    "# add review counts of over 100\n",
    "#add different colors for different types of food"
   ]
  },
  {
   "cell_type": "code",
   "execution_count": null,
   "id": "8157a297",
   "metadata": {},
   "outputs": [],
   "source": [
    "#create a dataframe of 60657 and 60613 with 2-3 rating and a pass\n",
    "beer_data = just_ratings.loc[just_ratings[\"rating\"] >= 2]\n",
    "beer_data = beer_data.loc[beer_data[\"rating\"] <= 4]\n",
    "# beer_data = beer_data.loc[beer_data[\"Facility Type\"] ==\"bar\"]\n",
    "beer_data = beer_data.loc[beer_data[\"zip code\"] == 60613]\n",
    "beer_data = beer_data.loc[beer_data[\"category_title\"].str.contains(\"Bar\")]\n",
    "beer_data"
   ]
  },
  {
   "cell_type": "code",
   "execution_count": null,
   "id": "281ec25b",
   "metadata": {},
   "outputs": [],
   "source": [
    "rest = [\"Old Crow Smokehouse\", \"The Butcher’s Tap\"]\n",
    "\n",
    "# zip_downtown = downtown.loc[downtown[\"Zip\"].isin(zips),:]\n",
    "beer_data_other = just_ratings.loc[just_ratings[\"rating\"] >= 2]\n",
    "beer_data_other = beer_data_other.loc[beer_data_other[\"rating\"] <= 4]\n",
    "# beer_data_other = beer_data_other.loc[beer_data_other[\"Results\"] ==\"Pass\"]\n",
    "beer_data_other = beer_data_other.loc[beer_data_other[\"zip code\"] == 60657]\n",
    "beer_data_other = beer_data_other.loc[beer_data_other[\"category_title\"].str.contains(\"Bar\")]\n",
    "beer_data_other\n",
    "beer_data_bar = beer_data_other.loc[beer_data_other[\"name\"].isin(rest),:]\n",
    "beer_data_bar"
   ]
  },
  {
   "cell_type": "code",
   "execution_count": null,
   "id": "f5a1bbb3",
   "metadata": {},
   "outputs": [],
   "source": [
    "#create a dataframe with specific restaurants to turn into markers\n",
    "beer_data\n",
    "place = [\"Budweiser Brickhouse Tavern\"]\n",
    "beer_data_bar2 = beer_data.loc[beer_data[\"name\"].isin(place),:]\n",
    "beer_data_bar2"
   ]
  },
  {
   "cell_type": "code",
   "execution_count": null,
   "id": "4317758f",
   "metadata": {},
   "outputs": [],
   "source": [
    "beer_60613 = beer_data[[\"latitude\", \"longitude\"]]\n",
    "beer_60657 = beer_data_other[[\"latitude\", \"longitude\"]]\n",
    "beer_marker = beer_data_bar[[\"latitude\", \"longitude\"]]\n",
    "beer_marker_2 = beer_data_bar2[[\"latitude\", \"longitude\"]]\n",
    "fig = gmaps.figure()\n",
    "great60613_symbols = gmaps.symbol_layer(beer_60613, fill_color=\"blue\", stroke_color = \"blue\")\n",
    "fig.add_layer(great60613_symbols)\n",
    "great60657_symbols = gmaps.symbol_layer(beer_60657, fill_color=\"red\", stroke_color = \"red\")\n",
    "fig.add_layer(great60657_symbols)\n",
    "marker_1 = gmaps.marker_layer(beer_marker)\n",
    "fig.add_layer(marker_1)\n",
    "marker_2 = gmaps.marker_layer(beer_marker_2)\n",
    "fig.add_layer(marker_2)\n",
    "fig"
   ]
  },
  {
   "cell_type": "code",
   "execution_count": null,
   "id": "dbb0877e",
   "metadata": {},
   "outputs": [],
   "source": [
    "#create a dataframe of 60657 and 60613 with 2-3 rating and a pass\n",
    "beer_data = just_ratings.loc[just_ratings[\"rating\"] >= 2]\n",
    "beer_data = beer_data.loc[beer_data[\"rating\"] <= 4]\n",
    "# beer_data = beer_data.loc[beer_data[\"Facility Type\"] ==\"bar\"]\n",
    "beer_data = beer_data.loc[beer_data[\"zip code\"] == 60613]\n",
    "beer_data = beer_data.loc[beer_data[\"category_title\"].str.contains(\"Bar\")]\n",
    "beer_data"
   ]
  },
  {
   "cell_type": "code",
   "execution_count": null,
   "id": "edc3ae5c",
   "metadata": {},
   "outputs": [],
   "source": [
    "beer_60613 = beer_data[[\"latitude\", \"longitude\"]]\n",
    "beer_60657 = beer_data_other[[\"latitude\", \"longitude\"]]\n",
    "fig = gmaps.figure()\n",
    "great60613_symbols = gmaps.symbol_layer(beer_60613, fill_color=\"blue\", stroke_color = \"blue\")\n",
    "fig.add_layer(great60613_symbols)\n",
    "great60657_symbols = gmaps.symbol_layer(beer_60657, fill_color=\"red\", stroke_color = \"red\")\n",
    "fig.add_layer(great60657_symbols)\n",
    "fig"
   ]
  },
  {
   "cell_type": "code",
   "execution_count": null,
   "id": "aac920d0",
   "metadata": {},
   "outputs": [],
   "source": [
    "#all by yourself data frame\n",
    "# yourself = data.loc[data[\"rating\"]< 2]\n",
    "# yourself = yourself.loc[yourself[\"Results\"] == \"Fail\"]\n",
    "yourself = data.loc[data[\"Zip\"] == 60657]\n",
    "yourself = yourself.loc[yourself[\"price_integer\"] <2]\n",
    "# yourself = yourself.loc[yourself[\"Results\"]== \"Fail\"]\n",
    "yourself"
   ]
  },
  {
   "cell_type": "code",
   "execution_count": null,
   "id": "187ae037",
   "metadata": {},
   "outputs": [],
   "source": [
    "yourself_13 = data.loc[data[\"Zip\"] == 60613]\n",
    "yourself_13 = yourself_13.loc[yourself_13[\"price_integer\"] <2]\n",
    "# yourself_13 = yourself_13.loc[yourself_13[\"Results\"]== \"Fail\"]\n",
    "yourself_13"
   ]
  },
  {
   "cell_type": "code",
   "execution_count": null,
   "id": "6f4a4a08",
   "metadata": {},
   "outputs": [],
   "source": [
    "#create markers for key restaurants\n",
    "spots = [\"WINDY CITY GYROS\", \"EL BURRITO MEXICANO\"]\n",
    "yourself_mark = yourself_13.loc[yourself_13[\"AKA Name\"].isin(spots),:]\n",
    "yourself_mark"
   ]
  },
  {
   "cell_type": "code",
   "execution_count": null,
   "id": "c1c2869f",
   "metadata": {},
   "outputs": [],
   "source": [
    "spots = [\"TACO BELL\"]\n",
    "yourself_mark2 = yourself.loc[yourself[\"AKA Name\"].isin(spots),:]\n",
    "yourself_mark2"
   ]
  },
  {
   "cell_type": "code",
   "execution_count": null,
   "id": "237f2cee",
   "metadata": {},
   "outputs": [],
   "source": [
    "urs_60613 = yourself[[\"latitude\", \"longitude\"]]\n",
    "urs_60657 = yourself_13[[\"latitude\", \"longitude\"]]\n",
    "urs_marker = yourself_mark[[\"latitude\", \"longitude\"]]\n",
    "urs_marker2 = yourself_mark2[[\"latitude\", \"longitude\"]]\n",
    "fig = gmaps.figure()\n",
    "urs60613_symbols = gmaps.symbol_layer(urs_60613, fill_color=\"blue\", stroke_color = \"blue\")\n",
    "fig.add_layer(urs60613_symbols)\n",
    "urs60657_symbols = gmaps.symbol_layer(urs_60657, fill_color=\"red\", stroke_color = \"red\")\n",
    "fig.add_layer(urs60657_symbols)\n",
    "urs_marker_1 = gmaps.marker_layer(urs_marker)\n",
    "fig.add_layer(urs_marker_1)\n",
    "urs_marker_2 = gmaps.marker_layer(urs_marker2)\n",
    "fig.add_layer(urs_marker_2)\n",
    "fig"
   ]
  },
  {
   "cell_type": "code",
   "execution_count": null,
   "id": "f4575c71",
   "metadata": {},
   "outputs": [],
   "source": [
    "#potential date\n",
    "date = data.loc[data[\"rating\"] >3]\n",
    "date = date.loc[date[\"Zip\"] == 60657]\n",
    "date = date.loc[date[\"Results\"] == \"Pass\"]\n",
    "date = date.loc[date[\"price_integer\"] >= 3]\n",
    "date"
   ]
  },
  {
   "cell_type": "code",
   "execution_count": null,
   "id": "a1ddd67f",
   "metadata": {},
   "outputs": [],
   "source": [
    "date_13 = data.loc[data[\"rating\"] > 3]\n",
    "date_13 = date_13.loc[date_13[\"Zip\"] == 60613]\n",
    "date_13 = date_13.loc[date_13[\"Results\"] == \"Pass\"]\n",
    "date_13 = date_13.loc[date_13[\"price_integer\"] >= 3]\n",
    "date_13"
   ]
  },
  {
   "cell_type": "code",
   "execution_count": null,
   "id": "ab7e6378",
   "metadata": {},
   "outputs": [],
   "source": [
    "date_60613 = date_13[[\"latitude\", \"longitude\"]]\n",
    "date_60657 = date[[\"latitude\", \"longitude\"]]\n",
    "fig = gmaps.figure()\n",
    "date60613_symbols = gmaps.symbol_layer(date_60613, fill_color=\"blue\", stroke_color = \"blue\")\n",
    "fig.add_layer(date60613_symbols)\n",
    "date60657_symbols = gmaps.symbol_layer(date_60657, fill_color=\"red\", stroke_color = \"red\")\n",
    "fig.add_layer(date60657_symbols)\n",
    "marker_1 = gmaps.marker_layer(date_60613)\n",
    "fig.add_layer(marker_1)\n",
    "marker_2 = gmaps.marker_layer(date_60657)\n",
    "fig.add_layer(marker_2)\n",
    "fig"
   ]
  },
  {
   "cell_type": "code",
   "execution_count": null,
   "id": "745373fe",
   "metadata": {},
   "outputs": [],
   "source": [
    "#dinner downtown and all restaurants must have passed an inspection\n",
    "zips = [60661, 60654, 60601, 60606, 60661, 60607, 60602]\n",
    "downtown = data.loc[data[\"Results\"]== \"Pass\"]\n",
    "#Lets just grab food\n",
    "zip_downtown = downtown.loc[downtown[\"Zip\"].isin(zips),:]\n",
    "#  & (downtown[\"Zip\"]==60654)]                        \n",
    "food_downtown = zip_downtown.loc[zip_downtown[\"price_integer\"] <= 2]\n",
    "food_downtown[\"category\"].value_counts()"
   ]
  },
  {
   "cell_type": "code",
   "execution_count": null,
   "id": "b83faf89",
   "metadata": {},
   "outputs": [],
   "source": [
    "#create dataframes for sandiwches, mexican, and salads\n",
    "sand_downtown = food_downtown.loc[food_downtown[\"category\"] == \"sandwiches\"]\n",
    "mex_downtown = food_downtown.loc[food_downtown[\"category\"] == \"mexican\"]\n",
    "sal_downtown = food_downtown.loc[food_downtown[\"category\"] == \"salad\"]\n",
    "sal_downtown"
   ]
  },
  {
   "cell_type": "code",
   "execution_count": null,
   "id": "9c970305",
   "metadata": {},
   "outputs": [],
   "source": [
    "#create specific df with restauarants to create markers\n",
    "place = [\"108 N STATE ST \"]\n",
    "sand_downtown_mark = sand_downtown.loc[sand_downtown[\"Address\"].isin(place),:]\n",
    "sand_downtown_mark"
   ]
  },
  {
   "cell_type": "code",
   "execution_count": null,
   "id": "ab8e4d0c",
   "metadata": {},
   "outputs": [],
   "source": [
    "#create a mex marker\n",
    "place = [\"235 W LAKE ST \"]\n",
    "mex_downtown_mark = mex_downtown.loc[mex_downtown[\"Address\"].isin(place),:]\n",
    "mex_downtown_mark"
   ]
  },
  {
   "cell_type": "code",
   "execution_count": null,
   "id": "e2880979",
   "metadata": {},
   "outputs": [],
   "source": [
    "#create a salad place\n",
    "place = [\"350 N LA SALLE DR \"]\n",
    "sal_downtown_mark = sal_downtown.loc[sal_downtown[\"Address\"].isin(place),:]\n",
    "sal_downtown_mark"
   ]
  },
  {
   "cell_type": "code",
   "execution_count": null,
   "id": "04649249",
   "metadata": {},
   "outputs": [],
   "source": [
    "sand_din = sand_downtown[[\"latitude\", \"longitude\"]]\n",
    "mex_din = mex_downtown[[\"latitude\", \"longitude\"]]\n",
    "sal_din = sal_downtown[[\"latitude\", \"longitude\"]]\n",
    "sand_mark = sand_downtown_mark[[\"latitude\", \"longitude\"]]\n",
    "mex_mark = mex_downtown_mark[[\"latitude\", \"longitude\"]]\n",
    "sal_mark = sal_downtown_mark[[\"latitude\", \"longitude\"]]\n",
    "fig = gmaps.figure()\n",
    "sand_symbols = gmaps.symbol_layer(sand_din, fill_color=\"blue\", stroke_color = \"blue\")\n",
    "fig.add_layer(sand_symbols)\n",
    "mex_symbols = gmaps.symbol_layer(mex_din, fill_color=\"red\", stroke_color = \"red\")\n",
    "fig.add_layer(mex_symbols)\n",
    "sal_symbols = gmaps.symbol_layer(sal_din, fill_color=\"green\", stroke_color = \"green\")\n",
    "fig.add_layer(sal_symbols)\n",
    "sand_mark_1 = gmaps.marker_layer(sand_mark)\n",
    "fig.add_layer(sand_mark_1)\n",
    "mex_mark_1 = gmaps.marker_layer(mex_mark)\n",
    "fig.add_layer(mex_mark_1)\n",
    "sal_mark_1 = gmaps.marker_layer(sal_mark)\n",
    "fig.add_layer(sal_mark_1)\n",
    "fig"
   ]
  },
  {
   "cell_type": "code",
   "execution_count": null,
   "id": "a811f8fe",
   "metadata": {},
   "outputs": [],
   "source": [
    "#fancy downtown restaurants\n",
    "fancy_downtown = zip_downtown.loc[zip_downtown[\"price_integer\"] == 4]\n",
    "fancy_downtown"
   ]
  },
  {
   "cell_type": "code",
   "execution_count": null,
   "id": "6c48c5ff",
   "metadata": {},
   "outputs": [],
   "source": [
    "#fancy restaurants marker\n",
    "spots = [\"CHICAGO CUT STEAKHOUSE\", \"PRIME & PROVISIONS\", \"SEPIA\" ]\n",
    "fancy_downtown_mark = fancy_downtown.loc[fancy_downtown[\"AKA Name\"].isin(spots),:]\n",
    "fancy_downtown_mark"
   ]
  },
  {
   "cell_type": "code",
   "execution_count": null,
   "id": "ba5fc2c4",
   "metadata": {},
   "outputs": [],
   "source": [
    "#fancy restaurants map\n",
    "fancy_down = fancy_downtown[[\"latitude\", \"longitude\"]]\n",
    "fancy_marks = fancy_downtown_mark[[\"latitude\", \"longitude\"]]\n",
    "fig = gmaps.figure()\n",
    "fancy_symbols = gmaps.symbol_layer(fancy_down, fill_color=\"blue\", stroke_color = \"blue\")\n",
    "fig.add_layer(fancy_symbols)\n",
    "fancy_marks_1 = gmaps.marker_layer(fancy_marks)\n",
    "fig.add_layer(fancy_marks_1)\n",
    "fig"
   ]
  },
  {
   "cell_type": "code",
   "execution_count": null,
   "id": "b27337bd",
   "metadata": {},
   "outputs": [],
   "source": [
    "#lets get something cheap but I promise it is clean\n",
    "cheap_downtown = zip_downtown.loc[zip_downtown[\"price_integer\"] == 1]\n",
    "cheap_downtown = cheap_downtown.loc[cheap_downtown[\"rating\"]>3]\n",
    "cheap_downtown[\"AKA Name\"].value_counts()"
   ]
  },
  {
   "cell_type": "code",
   "execution_count": null,
   "id": "8d04de23",
   "metadata": {},
   "outputs": [],
   "source": [
    "#create markers for 3 restaurant names\n",
    "place = [\"100 W ONTARIO ST \", \"33 N DEARBORN ST \", \"200 W ADAMS ST \"]\n",
    "cheap_downtown_mark = cheap_downtown.loc[cheap_downtown[\"Address\"].isin(place),:]\n",
    "cheap_downtown_mark"
   ]
  },
  {
   "cell_type": "code",
   "execution_count": null,
   "id": "272a0f12",
   "metadata": {},
   "outputs": [],
   "source": [
    "#creat a map for cheap, clean, places highly rated!\n",
    "cheap_down = cheap_downtown[[\"latitude\", \"longitude\"]]\n",
    "cheap_marks = cheap_downtown_mark[[\"latitude\", \"longitude\"]]\n",
    "fig = gmaps.figure()\n",
    "cheap_symbols = gmaps.symbol_layer(cheap_down, fill_color=\"blue\", stroke_color = \"blue\")\n",
    "fig.add_layer(cheap_symbols)\n",
    "cheap_marks_1 = gmaps.marker_layer(cheap_marks)\n",
    "fig.add_layer(cheap_marks_1)\n",
    "fig"
   ]
  }
 ],
 "metadata": {
  "kernelspec": {
   "display_name": "Python 3 (ipykernel)",
   "language": "python",
   "name": "python3"
  },
  "language_info": {
   "codemirror_mode": {
    "name": "ipython",
    "version": 3
   },
   "file_extension": ".py",
   "mimetype": "text/x-python",
   "name": "python",
   "nbconvert_exporter": "python",
   "pygments_lexer": "ipython3",
   "version": "3.9.7"
  }
 },
 "nbformat": 4,
 "nbformat_minor": 5
}
