{
 "cells": [
  {
   "cell_type": "code",
   "execution_count": null,
   "id": "df358d77",
   "metadata": {},
   "outputs": [],
   "source": [
    "# Import dependencies\n",
    "import pandas as pd\n",
    "import numpy as np"
   ]
  },
  {
   "cell_type": "code",
   "execution_count": null,
   "id": "60c72cfd",
   "metadata": {},
   "outputs": [],
   "source": [
    "path = 'yelp_csv/yelp_csv.csv'\n",
    "\n",
    "restaurants0_df = pd.read_csv(path)\n",
    "\n",
    "restaurants0_df.head()"
   ]
  },
  {
   "cell_type": "code",
   "execution_count": null,
   "id": "626d0ac1",
   "metadata": {},
   "outputs": [],
   "source": [
    "restaurants1_df = restaurants0_df.drop(columns=['Unnamed: 0'])\n",
    "restaurants1_df"
   ]
  },
  {
   "cell_type": "code",
   "execution_count": null,
   "id": "f04cab54",
   "metadata": {},
   "outputs": [],
   "source": [
    "len(restaurants1_df['restaurant_id'].unique())"
   ]
  },
  {
   "cell_type": "code",
   "execution_count": null,
   "id": "915c5026",
   "metadata": {},
   "outputs": [],
   "source": [
    "# Remove duplicate rows\n",
    "restaurants2_df = pd.DataFrame(restaurants1_df).drop_duplicates(keep='last',subset='restaurant_id')"
   ]
  },
  {
   "cell_type": "code",
   "execution_count": null,
   "id": "95f880a4",
   "metadata": {},
   "outputs": [],
   "source": [
    "restaurants2_df.count()"
   ]
  },
  {
   "cell_type": "code",
   "execution_count": null,
   "id": "9ea97d7c",
   "metadata": {},
   "outputs": [],
   "source": [
    "# Check how many zip codes in original datafram\n",
    "restaurants2_df['zip code'].value_counts()"
   ]
  },
  {
   "cell_type": "code",
   "execution_count": null,
   "id": "695416a4",
   "metadata": {},
   "outputs": [],
   "source": [
    "# List of Chicago zip codes comes from https://zipcode.org/city/IL/CHICAGO\n",
    "chi_zips = ['60701','60696','60693','60691','60690','60685','60684','60699',\n",
    "            '60697','60695','60694','60689','60688','60687','60686','60682',\n",
    "            '60681','60680','60678','60675','60674','60670','60669','60677',\n",
    "            '60673','60668','60666','60659','60657','60655','60654','60651',\n",
    "            '60649','60645','60644','60640','60639','60664','60661','60660',\n",
    "            '60656','60653','60652','60647','60646','60643','60642','60641',\n",
    "            '60638','60634','60633','60631','60637','60636','60632','60630',\n",
    "            '60629','60626','60625','60621','60620','60617','60616','60613',\n",
    "            '60612','60609','60628','60624','60623','60622','60619','60618',\n",
    "            '60615','60614','60611','60610','60608','60607','60606','60605',\n",
    "            '60604','60603','60602','60601','60290']"
   ]
  },
  {
   "cell_type": "code",
   "execution_count": null,
   "id": "aa141d87",
   "metadata": {},
   "outputs": [],
   "source": [
    "# Remove restaurants not in a Chicago zip code\n",
    "restaurants3_df = pd.DataFrame(restaurants2_df.loc[restaurants2_df['zip code'].isin(chi_zips),:])"
   ]
  },
  {
   "cell_type": "code",
   "execution_count": null,
   "id": "f8f19647",
   "metadata": {},
   "outputs": [],
   "source": [
    "# Check the count of non-missing values per column\n",
    "restaurants3_df.count()"
   ]
  },
  {
   "cell_type": "code",
   "execution_count": null,
   "id": "1e8ce606",
   "metadata": {},
   "outputs": [],
   "source": [
    "len(restaurants3_df['restaurant_id'].unique())"
   ]
  },
  {
   "cell_type": "code",
   "execution_count": null,
   "id": "a1b4268a",
   "metadata": {},
   "outputs": [],
   "source": [
    "restaurants3_df.reset_index(drop=True,inplace=True)\n",
    "restaurants3_df.head()"
   ]
  },
  {
   "cell_type": "code",
   "execution_count": null,
   "id": "a9f8cc8a",
   "metadata": {},
   "outputs": [],
   "source": [
    "restaurants3_df.dtypes"
   ]
  },
  {
   "cell_type": "code",
   "execution_count": null,
   "id": "57742298",
   "metadata": {},
   "outputs": [],
   "source": [
    "restaurants3_df['price_integer'] = np.nan\n",
    "restaurants3_df.loc[restaurants3_df['price'] == \"$\", 'price_integer'] = 1\n",
    "restaurants3_df.loc[restaurants3_df['price'] == \"$$\", 'price_integer'] = 2\n",
    "restaurants3_df.loc[restaurants3_df['price'] == \"$$$\", 'price_integer'] = 3\n",
    "restaurants3_df.loc[restaurants3_df['price'] == \"$$$$\", 'price_integer'] = 4"
   ]
  },
  {
   "cell_type": "code",
   "execution_count": null,
   "id": "5e200d1d",
   "metadata": {},
   "outputs": [],
   "source": [
    "restaurants3_df.head()"
   ]
  },
  {
   "cell_type": "code",
   "execution_count": null,
   "id": "34a538eb",
   "metadata": {},
   "outputs": [],
   "source": [
    "restaurants3_df['rating'].value_counts()"
   ]
  },
  {
   "cell_type": "code",
   "execution_count": null,
   "id": "059149af",
   "metadata": {},
   "outputs": [],
   "source": [
    "# restaurants3_df.to_csv('yelp_csv/yelp_csv_CLEAN.csv')"
   ]
  }
 ],
 "metadata": {
  "kernelspec": {
   "display_name": "Python [conda env:PythonData38] *",
   "language": "python",
   "name": "conda-env-PythonData38-py"
  },
  "language_info": {
   "codemirror_mode": {
    "name": "ipython",
    "version": 3
   },
   "file_extension": ".py",
   "mimetype": "text/x-python",
   "name": "python",
   "nbconvert_exporter": "python",
   "pygments_lexer": "ipython3",
   "version": "3.8.12"
  }
 },
 "nbformat": 4,
 "nbformat_minor": 5
}
