{
 "cells": [
  {
   "cell_type": "markdown",
   "id": "19f13433",
   "metadata": {},
   "source": [
    "### NOTES:\n"
   ]
  },
  {
   "cell_type": "code",
   "execution_count": null,
   "id": "7c0b39d6",
   "metadata": {},
   "outputs": [],
   "source": [
    "# Import dependencies\n",
    "from pprint import pprint\n",
    "import pandas as pd \n",
    "import requests\n",
    "import numpy as np\n",
    "\n",
    "from config import yelp_api_key"
   ]
  },
  {
   "cell_type": "code",
   "execution_count": null,
   "id": "78a7e242",
   "metadata": {
    "scrolled": true
   },
   "outputs": [],
   "source": [
    "# Generate offsets list to loop through more than 50 results up to 1000\n",
    "offsets = np.arange(0,1000,50)\n",
    "offsets"
   ]
  },
  {
   "cell_type": "code",
   "execution_count": null,
   "id": "a85baa3d",
   "metadata": {},
   "outputs": [],
   "source": [
    "# For testing\n",
    "# offsets = np.arange(0,50,50)"
   ]
  },
  {
   "cell_type": "code",
   "execution_count": null,
   "id": "07db70b4",
   "metadata": {},
   "outputs": [],
   "source": [
    "# Loop through Chicago zip codes \n",
    "# List of Chicago zip codes comes from https://zipcode.org/city/IL/CHICAGO\n",
    "chi_zips = ['60701','60696','60693','60691','60690','60685','60684','60699',\n",
    "            '60697','60695','60694','60689','60688','60687','60686','60682',\n",
    "            '60681','60680','60678','60675','60674','60670','60669','60677',\n",
    "            '60673','60668','60666','60659','60657','60655','60654','60651',\n",
    "            '60649','60645','60644','60640','60639','60664','60661','60660',\n",
    "            '60656','60653','60652','60647','60646','60643','60642','60641',\n",
    "            '60638','60634','60633','60631','60637','60636','60632','60630',\n",
    "            '60629','60626','60625','60621','60620','60617','60616','60613',\n",
    "            '60612','60609','60628','60624','60623','60622','60619','60618',\n",
    "            '60615','60614','60611','60610','60608','60607','60606','60605',\n",
    "            '60604','60603','60602','60601','60290']"
   ]
  },
  {
   "cell_type": "code",
   "execution_count": null,
   "id": "1e403df6",
   "metadata": {},
   "outputs": [],
   "source": [
    "# For testing\n",
    "# chi_zips = [\"60622\"]"
   ]
  },
  {
   "cell_type": "code",
   "execution_count": null,
   "id": "a637ffd7",
   "metadata": {},
   "outputs": [],
   "source": [
    "# Set empty list to store total search results per zip code\n",
    "totals = []"
   ]
  },
  {
   "cell_type": "code",
   "execution_count": null,
   "id": "f8e2d100",
   "metadata": {},
   "outputs": [],
   "source": [
    "# Set empty lists to store restaurant info\n",
    "name = []\n",
    "category = []\n",
    "category_title = []\n",
    "rating = []\n",
    "price = []\n",
    "review_count = []\n",
    "display_address = []\n",
    "address1 = []\n",
    "address2 = []\n",
    "address3 = []\n",
    "city = []\n",
    "latitude = []\n",
    "longitude = []\n",
    "zip_code = []\n",
    "restaurant_id = []"
   ]
  },
  {
   "cell_type": "code",
   "execution_count": null,
   "id": "e6c2d810",
   "metadata": {},
   "outputs": [],
   "source": [
    "# Yelp Fusion API info here: https://www.yelp.com/developers/documentation/v3/business_search\n",
    "base_url = \"https://api.yelp.com/v3/businesses/search\"\n",
    "\n",
    "# Loop through Chicago zip codes list\n",
    "for zips in chi_zips:\n",
    "    \n",
    "    location = f'Chicago, {zips}'\n",
    "    \n",
    "    # Loop through offsets to get each group of 50 results\n",
    "    for offset in offsets:\n",
    "        params = {'term' : 'restaurant',\n",
    "                  'location' : location,\n",
    "                  'limit' : 50,\n",
    "                  'offset' : offset}\n",
    "\n",
    "        # Headers contain the API key\n",
    "        headers = {'Authorization': 'Bearer {}'.format(yelp_api_key)}\n",
    "\n",
    "        # Place request\n",
    "        response = requests.get(base_url, headers=headers, params=params)\n",
    "\n",
    "        # JSON-ify data\n",
    "        data = response.json()\n",
    "\n",
    "        if 'businesses' in data.keys():\n",
    "            \n",
    "        # Loop through number of businesses and append values to lists\n",
    "            for i in range(len(data['businesses'])):\n",
    "\n",
    "                # Append values to lists\n",
    "                try:\n",
    "                    name.append(data['businesses'][i]['name'])\n",
    "                except KeyError:\n",
    "                    name.append(np.nan)\n",
    "\n",
    "                try:\n",
    "                    rating.append(data['businesses'][i]['rating'])\n",
    "                except KeyError:\n",
    "                    rating.append(np.nan)\n",
    "\n",
    "                try:\n",
    "                    price.append(data['businesses'][i]['price'])\n",
    "                except KeyError:\n",
    "                    price.append(np.nan)\n",
    "\n",
    "                try:\n",
    "                    review_count.append(data['businesses'][i]['review_count'])\n",
    "                except KeyError:\n",
    "                    review_count.append(np.nan)\n",
    "\n",
    "                try:\n",
    "                    display_address.append(data['businesses'][i]['location']['display_address'])\n",
    "                except KeyError:\n",
    "                    display_address.append(np.nan)\n",
    "                \n",
    "                try:\n",
    "                    address1.append(data['businesses'][i]['location']['address1'])\n",
    "                except KeyError:\n",
    "                    address1.append(np.nan)\n",
    "                    \n",
    "                try:\n",
    "                    address2.append(data['businesses'][i]['location']['address2'])\n",
    "                except KeyError:\n",
    "                    address2.append(np.nan)\n",
    "                    \n",
    "                try:\n",
    "                    address3.append(data['businesses'][i]['location']['address3'])\n",
    "                except KeyError:\n",
    "                    address3.append(np.nan)\n",
    "                    \n",
    "                try:\n",
    "                    city.append(data['businesses'][i]['location']['city'])\n",
    "                except KeyError:\n",
    "                    city.append(np.nan)\n",
    "                    \n",
    "                try:\n",
    "                    latitude.append(data['businesses'][i]['coordinates']['latitude'])\n",
    "                except KeyError:\n",
    "                    latitude.append(np.nan)\n",
    "\n",
    "                try:\n",
    "                    longitude.append(data['businesses'][i]['coordinates']['longitude'])\n",
    "                except KeyError:\n",
    "                    longitude.append(np.nan)\n",
    "\n",
    "                try:\n",
    "                    zip_code.append(data['businesses'][i]['location']['zip_code'])\n",
    "                except KeyError:\n",
    "                    zip_code.append(np.nan)\n",
    "\n",
    "                try:\n",
    "                    restaurant_id.append(data['businesses'][i]['id'])\n",
    "                except:\n",
    "                    restaurant_id.append(np.nan)\n",
    "\n",
    "                try:\n",
    "                    category.append(data['businesses'][i]['categories'][0]['alias'])\n",
    "                except:\n",
    "                    category.append(np.nan)\n",
    "\n",
    "                try:\n",
    "                    category_title.append(data['businesses'][i]['categories'][0]['title'])\n",
    "                except:\n",
    "                    category_title.append(np.nan)\n",
    "        \n",
    "        totals.append(data['total'])\n",
    "    "
   ]
  },
  {
   "cell_type": "code",
   "execution_count": null,
   "id": "4643789e",
   "metadata": {},
   "outputs": [],
   "source": [
    "# Pretty print\n",
    "# pprint(data)"
   ]
  },
  {
   "cell_type": "code",
   "execution_count": null,
   "id": "bb419ff6",
   "metadata": {},
   "outputs": [],
   "source": [
    "# Stores number of results per zip code\n",
    "totals = pd.Series(totals).unique()\n",
    "totals"
   ]
  },
  {
   "cell_type": "code",
   "execution_count": null,
   "id": "e841d04e",
   "metadata": {},
   "outputs": [],
   "source": [
    "# Build datadrame from lists \n",
    "restaurants_df = pd.DataFrame({'name' : name,\n",
    "                              'category' : category,\n",
    "                              'category_title' : category_title, \n",
    "                              'rating' : rating,\n",
    "                              'price' : price,\n",
    "                              'review_count' : review_count,\n",
    "                              'display_address' : display_address,\n",
    "                              'address1' : address1,\n",
    "                              'address2' : address2,\n",
    "                              'address3' : address3,\n",
    "                              'city' : city, \n",
    "                              'latitude' : latitude,\n",
    "                              'longitude' : longitude,\n",
    "                              'zip code' : zip_code,\n",
    "                              'restaurant_id' : restaurant_id})"
   ]
  },
  {
   "cell_type": "code",
   "execution_count": null,
   "id": "d80ce03c",
   "metadata": {
    "scrolled": false
   },
   "outputs": [],
   "source": [
    "# View dataframe\n",
    "restaurants_df"
   ]
  },
  {
   "cell_type": "code",
   "execution_count": null,
   "id": "06de4bfe",
   "metadata": {},
   "outputs": [],
   "source": [
    "# Check the number of unique restaurant IDs\n",
    "len(restaurants_df['restaurant_id'].unique())"
   ]
  },
  {
   "cell_type": "code",
   "execution_count": null,
   "id": "b90d52da",
   "metadata": {},
   "outputs": [],
   "source": [
    "restaurants_df.count()"
   ]
  },
  {
   "cell_type": "code",
   "execution_count": null,
   "id": "90be3f35",
   "metadata": {},
   "outputs": [],
   "source": [
    "# Inspect data to see how many zip codes we have in the existing dataframe\n",
    "restaurants_df['zip code'].value_counts()"
   ]
  },
  {
   "cell_type": "code",
   "execution_count": null,
   "id": "dda4431b",
   "metadata": {},
   "outputs": [],
   "source": [
    "# Export to .csv\n",
    "# restaurants_df.to_csv('yelp_csv/yelp_csv.csv')"
   ]
  }
 ],
 "metadata": {
  "kernelspec": {
   "display_name": "Python [conda env:PythonData38] *",
   "language": "python",
   "name": "conda-env-PythonData38-py"
  },
  "language_info": {
   "codemirror_mode": {
    "name": "ipython",
    "version": 3
   },
   "file_extension": ".py",
   "mimetype": "text/x-python",
   "name": "python",
   "nbconvert_exporter": "python",
   "pygments_lexer": "ipython3",
   "version": "3.8.12"
  }
 },
 "nbformat": 4,
 "nbformat_minor": 5
}
