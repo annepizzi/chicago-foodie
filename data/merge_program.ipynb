{
 "cells": [
  {
   "cell_type": "code",
   "execution_count": null,
   "id": "8707d5b1",
   "metadata": {},
   "outputs": [],
   "source": [
    "import pandas as pd"
   ]
  },
  {
   "cell_type": "code",
   "execution_count": null,
   "id": "98275dc1",
   "metadata": {},
   "outputs": [],
   "source": [
    "# import inspection dataset \n",
    "inspection_df = pd.read_csv('inspection_data.csv')\n",
    "inspection_df.head()"
   ]
  },
  {
   "cell_type": "code",
   "execution_count": null,
   "id": "ce09db4a",
   "metadata": {},
   "outputs": [],
   "source": [
    "# create variables rounding longitude and latitude to 2 decimal places\n",
    "inspection_df['Lat_round'] = round(inspection_df['Latitude'],2)\n",
    "inspection_df['Lng_round'] = round(inspection_df['Longitude'],2)\n",
    "\n",
    "# create name_upper variable for merge\n",
    "inspection_df['name_upper'] = inspection_df['AKA Name'].str.upper()"
   ]
  },
  {
   "cell_type": "code",
   "execution_count": null,
   "id": "66065caf",
   "metadata": {},
   "outputs": [],
   "source": [
    "# import yelp dataset\n",
    "yelp_df = pd.read_csv('yelp_csv/yelp_csv_CLEAN.csv')\n",
    "yelp_df.head()"
   ]
  },
  {
   "cell_type": "code",
   "execution_count": null,
   "id": "96e81895",
   "metadata": {},
   "outputs": [],
   "source": [
    "# create variables rounding longitude and latitude to 2 decimal places\n",
    "yelp_df\n",
    "yelp_df['Lat_round'] = round(yelp_df['latitude'],2)\n",
    "yelp_df['Lng_round'] = round(yelp_df['longitude'],2)\n",
    "\n",
    "# create name_upper variable for merge\n",
    "yelp_df['name_upper'] = yelp_df['name'].str.upper()"
   ]
  },
  {
   "cell_type": "code",
   "execution_count": null,
   "id": "f87bd87d",
   "metadata": {},
   "outputs": [],
   "source": [
    "# merge datasets on rounded lat/lng and capitalized name\n",
    "merged_df = pd.merge(inspection_df, yelp_df, on=['name_upper','Lat_round','Lng_round'],how='inner')"
   ]
  },
  {
   "cell_type": "code",
   "execution_count": null,
   "id": "d87bfeac",
   "metadata": {},
   "outputs": [],
   "source": [
    "# view a few columns to see if merge makes sense\n",
    "merged_df[['Address','display_address','AKA Name','name','zip code']]"
   ]
  },
  {
   "cell_type": "code",
   "execution_count": null,
   "id": "2bd4fc53",
   "metadata": {},
   "outputs": [],
   "source": [
    "# look at average rating by zip code and by pass/fail\n",
    "by_zip = merged_df.groupby(['zip code','Results'])['rating'].mean()\n",
    "by_zip"
   ]
  },
  {
   "cell_type": "code",
   "execution_count": null,
   "id": "dd9e81cc",
   "metadata": {},
   "outputs": [],
   "source": [
    "# export to csv\n",
    "# merged_df.to_csv('yelp_inspection_merge.csv')"
   ]
  }
 ],
 "metadata": {
  "kernelspec": {
   "display_name": "Python [conda env:PythonData38] *",
   "language": "python",
   "name": "conda-env-PythonData38-py"
  },
  "language_info": {
   "codemirror_mode": {
    "name": "ipython",
    "version": 3
   },
   "file_extension": ".py",
   "mimetype": "text/x-python",
   "name": "python",
   "nbconvert_exporter": "python",
   "pygments_lexer": "ipython3",
   "version": "3.8.12"
  }
 },
 "nbformat": 4,
 "nbformat_minor": 5
}
