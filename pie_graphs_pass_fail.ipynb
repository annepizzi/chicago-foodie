{
 "cells": [
  {
   "cell_type": "code",
   "execution_count": null,
   "id": "e9e7e4d8",
   "metadata": {},
   "outputs": [],
   "source": [
    "# Import dependencies\n",
    "from pprint import pprint\n",
    "import pandas as pd \n",
    "import requests\n",
    "import numpy as np\n",
    "\n",
    "import matplotlib.pyplot as plt\n",
    "import pandas as pd\n",
    "import scipy.stats as st\n",
    "import numpy as np\n",
    "from scipy.stats import linregress\n",
    "from sklearn import datasets\n",
    "\n",
    "import gmaps\n",
    "import os\n",
    "import json\n",
    "import time\n",
    "from config import g_key"
   ]
  },
  {
   "cell_type": "code",
   "execution_count": null,
   "id": "4aeeaeda",
   "metadata": {},
   "outputs": [],
   "source": [
    "merged_clean = pd.read_csv('data/yelp_inspection_merge.csv')\n",
    "merged_clean.head()\n"
   ]
  },
  {
   "cell_type": "code",
   "execution_count": null,
   "id": "fc2368fd",
   "metadata": {},
   "outputs": [],
   "source": [
    "pf = merged_clean[\"Year\"].unique()\n",
    "pf"
   ]
  },
  {
   "cell_type": "markdown",
   "id": "270e38e1",
   "metadata": {},
   "source": [
    "# Failed"
   ]
  },
  {
   "cell_type": "code",
   "execution_count": null,
   "id": "b247b278",
   "metadata": {},
   "outputs": [],
   "source": [
    "#DataFrame for Restaurant with Failed Status\n",
    "failed_df = merged_clean.loc[merged_clean[\"Results\"] == \"Fail\"]"
   ]
  },
  {
   "cell_type": "code",
   "execution_count": null,
   "id": "04ffed2b",
   "metadata": {},
   "outputs": [],
   "source": [
    "fail = pd.DataFrame(failed_df, columns = ['name','review_count','category','category_title','Risk', 'price_integer',\n",
    "                                                'rating', 'Year', 'zip code_y','address1','price','Inspection Type','Results','Violations','Latitude','Longitude'])\n",
    "#fail.head(5)\n"
   ]
  },
  {
   "cell_type": "code",
   "execution_count": null,
   "id": "2ea1067b",
   "metadata": {},
   "outputs": [],
   "source": [
    "#create link for gmaps\n",
    "gmaps.configure(api_key = g_key)"
   ]
  },
  {
   "cell_type": "code",
   "execution_count": null,
   "id": "57196020",
   "metadata": {},
   "outputs": [],
   "source": [
    "# configure gmaps for lat/lng vs rating based on . Store latitude and longitude in locations\n",
    "locations_f = fail[[\"Latitude\", \"Longitude\"]]\n",
    "\n",
    "# Fill NaN values and convert to float\n",
    "rating = fail[\"rating\"].astype(float)"
   ]
  },
  {
   "cell_type": "code",
   "execution_count": null,
   "id": "42a3b08d",
   "metadata": {},
   "outputs": [],
   "source": [
    "# Plot Heatmap\n",
    "fig = gmaps.figure()\n",
    "\n",
    "# Create heat layer\n",
    "heat_layer = gmaps.heatmap_layer(locations_f, weights=rating, \n",
    "                                 dissipating=False, max_intensity=300,\n",
    "                                 point_radius=50)\n",
    "\n",
    "# Add layer\n",
    "fig.add_layer(heat_layer)\n",
    "\n",
    "# Display figure\n",
    "fig"
   ]
  },
  {
   "cell_type": "code",
   "execution_count": null,
   "id": "e28dfecd",
   "metadata": {},
   "outputs": [],
   "source": [
    "#configure a map with all the points\n",
    "figure = {\n",
    "    'width': '400px',\n",
    "    'height': '300px',\n",
    "    'border': '1px solid black',\n",
    "    'padding': '1px',\n",
    "    'margin': '0 auto 0 auto'\n",
    "}\n",
    "fig = gmaps.figure(layout=figure)\n",
    "\n",
    "#Add markers\n",
    "markers = gmaps.marker_layer(locations_f)\n",
    "# Add the layer to the map\n",
    "fig.add_layer(markers)\n",
    "fig"
   ]
  },
  {
   "cell_type": "code",
   "execution_count": null,
   "id": "00174c06",
   "metadata": {},
   "outputs": [],
   "source": [
    "f = failed_df[\"Year\"].unique()\n",
    "f"
   ]
  },
  {
   "cell_type": "markdown",
   "id": "04e74041",
   "metadata": {},
   "source": [
    "# Passing DataFrame"
   ]
  },
  {
   "cell_type": "code",
   "execution_count": null,
   "id": "1fee14ba",
   "metadata": {},
   "outputs": [],
   "source": [
    "#DataFrame for Restaurant with Passed Status\n",
    "passed_df = merged_clean.loc[merged_clean[\"Results\"] == \"Pass\"]\n",
    "pass_df = pd.DataFrame(passed_df, columns = ['name','review_count','category','category_title','Risk', 'price_integer',\n",
    "                                                'rating', 'Year', 'zip code_y','address1','price','Inspection Type','Results','Violations','Latitude','Longitude'])\n",
    "#pass_df.head(5)"
   ]
  },
  {
   "cell_type": "markdown",
   "id": "65cae44c",
   "metadata": {},
   "source": [
    "Heat Map Rating with Lat/Lng: use Latitude, Longitude and Rating as weight"
   ]
  },
  {
   "cell_type": "code",
   "execution_count": null,
   "id": "543c9b81",
   "metadata": {},
   "outputs": [],
   "source": [
    "#configure gmaps for lat/lng vs rating\n",
    "\n",
    "# Store latitude and longitude in locations\n",
    "locations = pass_df[[\"Latitude\", \"Longitude\"]]\n",
    "\n",
    "# Fill NaN values and convert to float\n",
    "rating = pass_df[\"rating\"].astype(float)"
   ]
  },
  {
   "cell_type": "code",
   "execution_count": null,
   "id": "3acbd4d9",
   "metadata": {},
   "outputs": [],
   "source": [
    "# Plot Heatmap\n",
    "fig = gmaps.figure()\n",
    "\n",
    "# Create heat layer\n",
    "heat_layer = gmaps.heatmap_layer(locations, weights=rating, \n",
    "                                 dissipating=False, max_intensity=600,\n",
    "                                 point_radius=100)\n",
    "\n",
    "# Add layer\n",
    "fig.add_layer(heat_layer)\n",
    "\n",
    "# Display figure\n",
    "fig"
   ]
  },
  {
   "cell_type": "markdown",
   "id": "aabb4a59",
   "metadata": {},
   "source": [
    "Marker Map of Pass: use Latitude, Longitude"
   ]
  },
  {
   "cell_type": "code",
   "execution_count": null,
   "id": "91634d57",
   "metadata": {},
   "outputs": [],
   "source": [
    "#configure a map with all the points\n",
    "locations_p = pass_df[[\"Latitude\", \"Longitude\"]]\n",
    "\n",
    "figure_layout = {\n",
    "    'width': '400px',\n",
    "    'height': '300px',\n",
    "    'border': '1px solid black',\n",
    "    'padding': '1px',\n",
    "    'margin': '0 auto 0 auto'\n",
    "}\n",
    "fig = gmaps.figure(layout=figure_layout)\n",
    "\n",
    "#Add markers\n",
    "markers = gmaps.marker_layer(locations_p)\n",
    "# Add the layer to the map\n",
    "fig.add_layer(markers)\n",
    "fig"
   ]
  },
  {
   "cell_type": "markdown",
   "id": "0de76b93",
   "metadata": {},
   "source": [
    "Price vs Year ScatterPlot"
   ]
  },
  {
   "cell_type": "code",
   "execution_count": null,
   "id": "d213d63f",
   "metadata": {},
   "outputs": [],
   "source": [
    "pass_df['rating'].replace('', np.nan, inplace=True)\n",
    "pass_df.dropna(subset=['rating'], inplace=True)\n",
    "p = pass_df[\"Year\"].unique()\n",
    "p"
   ]
  },
  {
   "cell_type": "code",
   "execution_count": null,
   "id": "fcea74d9",
   "metadata": {},
   "outputs": [],
   "source": [
    "\n",
    "x_values = pass_df[\"Year\"]\n",
    "y_values = pass_df[\"rating\"]"
   ]
  },
  {
   "cell_type": "code",
   "execution_count": null,
   "id": "d6571878",
   "metadata": {},
   "outputs": [],
   "source": [
    "# Calculate the correlation coefficient and linear regression model \n",
    "(slope, intercept, rvalue, pvalue, stderr) = linregress(x_values, y_values)\n",
    "regress_values = x_values * slope + intercept\n",
    "line_eq = \"y = \" + str(round(slope,2)) + \"x + \" + str(round(intercept,2))\n",
    "\n",
    "#create the scatter plot\n",
    "plt.scatter(x_values,y_values)\n",
    "plt.plot(x_values,regress_values,\"r-\")\n",
    "plt.annotate(line_eq,(5.8,0.8),fontsize=15,color=\"red\")\n",
    "plt.xlabel(\"Year\")\n",
    "plt.ylabel(\"Rating\")\n",
    "plt.show()"
   ]
  },
  {
   "cell_type": "markdown",
   "id": "aec2db0e",
   "metadata": {},
   "source": [
    "# Pass vs Fail in Bar Chart"
   ]
  },
  {
   "cell_type": "code",
   "execution_count": null,
   "id": "8533decf",
   "metadata": {},
   "outputs": [],
   "source": [
    "# Generate a pie plot showing the distribution of female versus male mice using pyplot\n",
    "Passed = pass_df['name'].count()\n",
    "Failed = failed_df['name'].count()\n",
    "print(Passed)\n",
    "print(Failed)"
   ]
  },
  {
   "cell_type": "code",
   "execution_count": null,
   "id": "30f6329c",
   "metadata": {},
   "outputs": [],
   "source": [
    "result = [\"Pass\", \"Fail\"] \n",
    "count = [441,184]\n",
    "res_df = pd.DataFrame({\"Result\": result,\"Count\": count})\n",
    "res_df\n"
   ]
  },
  {
   "cell_type": "code",
   "execution_count": null,
   "id": "35062dd5",
   "metadata": {},
   "outputs": [],
   "source": [
    "\n",
    "# Generate a pie plot showing the distribution of pass vs fail\n",
    "\n",
    "colors = [\"lightblue\",\"orange\"]\n",
    "\n",
    "plot = res_df.plot.pie(y=\"Count\", labels=(\"Pass\",\"Fail\"), figsize=(7,5), colors = colors, autopct=\"%1.1f%%\",\n",
    "                             startangle=140,)\n",
    "# Create axes which are equal so we have a perfect circle\n",
    "plt.axis(\"equal\")\n",
    "# Save an image of our chart and print the final product to the screen\n",
    "# plt.savefig('images/pie_pass_fail.png')\n",
    "plt.show()"
   ]
  },
  {
   "cell_type": "code",
   "execution_count": null,
   "id": "f6c6b740",
   "metadata": {},
   "outputs": [],
   "source": [
    "pass_df"
   ]
  },
  {
   "cell_type": "markdown",
   "id": "717948cf",
   "metadata": {},
   "source": [
    "# pie chart for passing vs rating"
   ]
  },
  {
   "cell_type": "code",
   "execution_count": null,
   "id": "9a9eabae",
   "metadata": {},
   "outputs": [],
   "source": [
    "pass_df['bins'] = pd.cut(pass_df['rating'],bins=[0, 2, 3.5, 5], labels=['Poor', 'Okay', 'Great'])\n",
    "P_df = pass_df.groupby(['rating', 'bins']).size().unstack(fill_value=0)\n",
    "print(P_df)"
   ]
  },
  {
   "cell_type": "code",
   "execution_count": null,
   "id": "20ee9ad3",
   "metadata": {},
   "outputs": [],
   "source": [
    "P_df.plot.pie(subplots=True,figsize=(20, 20));\n",
    "# plt.savefig('images/pie_passing_rating.png')"
   ]
  },
  {
   "cell_type": "code",
   "execution_count": null,
   "id": "99bd1245",
   "metadata": {},
   "outputs": [],
   "source": [
    "P = pass_df.groupby('bins').size()\n",
    "P.plot.pie(figsize=(5,5))\n",
    "# plt.savefig('images/pie_all_passing_rating.png')"
   ]
  },
  {
   "cell_type": "markdown",
   "id": "ff1b333c",
   "metadata": {},
   "source": [
    "# Pie chart for failing vs rating"
   ]
  },
  {
   "cell_type": "code",
   "execution_count": null,
   "id": "8d532308",
   "metadata": {},
   "outputs": [],
   "source": [
    "fail['Binned'] = pd.cut(fail['rating'], bins=[0, 2, 3.5, 5], labels=['Poor', 'Okay', 'Great'])\n",
    "F_df = fail.groupby(['rating', 'Binned']).size().unstack(fill_value=0)\n",
    "print (F_df)"
   ]
  },
  {
   "cell_type": "code",
   "execution_count": null,
   "id": "558d80d6",
   "metadata": {},
   "outputs": [],
   "source": [
    "F_df.plot.pie(subplots=True,figsize=(20, 20))\n",
    "# plt.savefig('images/pie_failing_rating.png')"
   ]
  },
  {
   "cell_type": "code",
   "execution_count": null,
   "id": "4c6dc29c",
   "metadata": {},
   "outputs": [],
   "source": [
    "F = fail.groupby('Binned').size()\n",
    "F.plot.pie(figsize=(5,5));\n",
    "# plt.savefig('images/pie_all_failing_rating.png')"
   ]
  },
  {
   "cell_type": "code",
   "execution_count": null,
   "id": "8b588f39",
   "metadata": {},
   "outputs": [],
   "source": [
    "bad_good = fail.loc[fail[\"Binned\"] == \"Great\" ]\n",
    "bad_good['name'].unique()"
   ]
  },
  {
   "cell_type": "code",
   "execution_count": null,
   "id": "e513864f",
   "metadata": {},
   "outputs": [],
   "source": [
    "topo = fail.loc[fail[\"name\"] == \"Topo Gigio Ristorante\"]\n",
    "topo"
   ]
  },
  {
   "cell_type": "code",
   "execution_count": null,
   "id": "0f6e54f5",
   "metadata": {},
   "outputs": [],
   "source": [
    "price_bad = bad_good.loc[bad_good['price_integer'] > 3.0]\n",
    "price_bad"
   ]
  },
  {
   "cell_type": "code",
   "execution_count": null,
   "id": "0c286a9c",
   "metadata": {},
   "outputs": [],
   "source": [
    "price_bad['name'].unique()"
   ]
  },
  {
   "cell_type": "code",
   "execution_count": null,
   "id": "1e2deb0b",
   "metadata": {},
   "outputs": [],
   "source": [
    "rating_count = pd.DataFrame(merged_clean.groupby(['rating'])['name'].count()).reset_index(drop=False)"
   ]
  },
  {
   "cell_type": "code",
   "execution_count": null,
   "id": "b158ea86",
   "metadata": {},
   "outputs": [],
   "source": [
    "# Set x and y axes\n",
    "rating_x = rating_count['rating']\n",
    "x_ticks = np.arange(1,5.5,.5)\n",
    "rating_y = rating_count['name']\n",
    "\n",
    "# Build bar chart showing distribution of ratings\n",
    "plt.bar(x=rating_x,height=rating_y,color='steelblue',width=.4);\n",
    "plt.xticks(x_ticks,rating_x,rotation=0);\n",
    "plt.title('Distribution of Ratings across Chicago');\n",
    "plt.ylabel('Number of Restaurants');\n",
    "plt.xlabel('Rating');\n",
    "# plt.savefig('images/ratings_histogram.png')"
   ]
  }
 ],
 "metadata": {
  "kernelspec": {
   "display_name": "Python [conda env:PythonData38] *",
   "language": "python",
   "name": "conda-env-PythonData38-py"
  },
  "language_info": {
   "codemirror_mode": {
    "name": "ipython",
    "version": 3
   },
   "file_extension": ".py",
   "mimetype": "text/x-python",
   "name": "python",
   "nbconvert_exporter": "python",
   "pygments_lexer": "ipython3",
   "version": "3.8.12"
  }
 },
 "nbformat": 4,
 "nbformat_minor": 5
}
